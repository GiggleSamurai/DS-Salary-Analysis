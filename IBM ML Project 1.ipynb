{
 "cells": [
  {
   "cell_type": "markdown",
   "id": "24e39409",
   "metadata": {},
   "source": [
    "# Data Science Salary Analysis"
   ]
  },
  {
   "cell_type": "markdown",
   "id": "a4b40ab4",
   "metadata": {},
   "source": [
    "\n",
    "Read webscraping data. This data required more cleaning.\n"
   ]
  },
  {
   "cell_type": "code",
   "execution_count": 1,
   "id": "e038f117",
   "metadata": {},
   "outputs": [
    {
     "data": {
      "text/html": [
       "<div>\n",
       "<style scoped>\n",
       "    .dataframe tbody tr th:only-of-type {\n",
       "        vertical-align: middle;\n",
       "    }\n",
       "\n",
       "    .dataframe tbody tr th {\n",
       "        vertical-align: top;\n",
       "    }\n",
       "\n",
       "    .dataframe thead th {\n",
       "        text-align: right;\n",
       "    }\n",
       "</style>\n",
       "<table border=\"1\" class=\"dataframe\">\n",
       "  <thead>\n",
       "    <tr style=\"text-align: right;\">\n",
       "      <th></th>\n",
       "      <th>Unnamed: 0</th>\n",
       "      <th>index</th>\n",
       "      <th>Job Title</th>\n",
       "      <th>Salary Estimate</th>\n",
       "      <th>Job Description</th>\n",
       "      <th>Rating</th>\n",
       "      <th>Company Name</th>\n",
       "      <th>Location</th>\n",
       "      <th>Headquarters</th>\n",
       "      <th>Size</th>\n",
       "      <th>Founded</th>\n",
       "      <th>Type of ownership</th>\n",
       "      <th>Industry</th>\n",
       "      <th>Sector</th>\n",
       "      <th>Revenue</th>\n",
       "      <th>Competitors</th>\n",
       "      <th>Easy Apply</th>\n",
       "    </tr>\n",
       "  </thead>\n",
       "  <tbody>\n",
       "    <tr>\n",
       "      <th>0</th>\n",
       "      <td>0</td>\n",
       "      <td>0</td>\n",
       "      <td>Senior Data Scientist</td>\n",
       "      <td>$111K-$181K (Glassdoor est.)</td>\n",
       "      <td>ABOUT HOPPER\\n\\nAt Hopper, we’re on a mission ...</td>\n",
       "      <td>3.5</td>\n",
       "      <td>Hopper\\n3.5</td>\n",
       "      <td>New York, NY</td>\n",
       "      <td>Montreal, Canada</td>\n",
       "      <td>501 to 1000 employees</td>\n",
       "      <td>2007</td>\n",
       "      <td>Company - Private</td>\n",
       "      <td>Travel Agencies</td>\n",
       "      <td>Travel &amp; Tourism</td>\n",
       "      <td>Unknown / Non-Applicable</td>\n",
       "      <td>-1</td>\n",
       "      <td>-1</td>\n",
       "    </tr>\n",
       "    <tr>\n",
       "      <th>1</th>\n",
       "      <td>1</td>\n",
       "      <td>1</td>\n",
       "      <td>Data Scientist, Product Analytics</td>\n",
       "      <td>$111K-$181K (Glassdoor est.)</td>\n",
       "      <td>At Noom, we use scientifically proven methods ...</td>\n",
       "      <td>4.5</td>\n",
       "      <td>Noom US\\n4.5</td>\n",
       "      <td>New York, NY</td>\n",
       "      <td>New York, NY</td>\n",
       "      <td>1001 to 5000 employees</td>\n",
       "      <td>2008</td>\n",
       "      <td>Company - Private</td>\n",
       "      <td>Health, Beauty, &amp; Fitness</td>\n",
       "      <td>Consumer Services</td>\n",
       "      <td>Unknown / Non-Applicable</td>\n",
       "      <td>-1</td>\n",
       "      <td>-1</td>\n",
       "    </tr>\n",
       "    <tr>\n",
       "      <th>2</th>\n",
       "      <td>2</td>\n",
       "      <td>2</td>\n",
       "      <td>Data Science Manager</td>\n",
       "      <td>$111K-$181K (Glassdoor est.)</td>\n",
       "      <td>Decode_M\\n\\nhttps://www.decode-m.com/\\n\\nData ...</td>\n",
       "      <td>-1.0</td>\n",
       "      <td>Decode_M</td>\n",
       "      <td>New York, NY</td>\n",
       "      <td>New York, NY</td>\n",
       "      <td>1 to 50 employees</td>\n",
       "      <td>-1</td>\n",
       "      <td>Unknown</td>\n",
       "      <td>-1</td>\n",
       "      <td>-1</td>\n",
       "      <td>Unknown / Non-Applicable</td>\n",
       "      <td>-1</td>\n",
       "      <td>True</td>\n",
       "    </tr>\n",
       "    <tr>\n",
       "      <th>3</th>\n",
       "      <td>3</td>\n",
       "      <td>3</td>\n",
       "      <td>Data Analyst</td>\n",
       "      <td>$111K-$181K (Glassdoor est.)</td>\n",
       "      <td>Sapphire Digital seeks a dynamic and driven mi...</td>\n",
       "      <td>3.4</td>\n",
       "      <td>Sapphire Digital\\n3.4</td>\n",
       "      <td>Lyndhurst, NJ</td>\n",
       "      <td>Lyndhurst, NJ</td>\n",
       "      <td>201 to 500 employees</td>\n",
       "      <td>2019</td>\n",
       "      <td>Company - Private</td>\n",
       "      <td>Internet</td>\n",
       "      <td>Information Technology</td>\n",
       "      <td>Unknown / Non-Applicable</td>\n",
       "      <td>Zocdoc, Healthgrades</td>\n",
       "      <td>-1</td>\n",
       "    </tr>\n",
       "    <tr>\n",
       "      <th>4</th>\n",
       "      <td>4</td>\n",
       "      <td>4</td>\n",
       "      <td>Director, Data Science</td>\n",
       "      <td>$111K-$181K (Glassdoor est.)</td>\n",
       "      <td>Director, Data Science - (200537)\\nDescription...</td>\n",
       "      <td>3.4</td>\n",
       "      <td>United Entertainment Group\\n3.4</td>\n",
       "      <td>New York, NY</td>\n",
       "      <td>New York, NY</td>\n",
       "      <td>51 to 200 employees</td>\n",
       "      <td>2007</td>\n",
       "      <td>Company - Private</td>\n",
       "      <td>Advertising &amp; Marketing</td>\n",
       "      <td>Business Services</td>\n",
       "      <td>Unknown / Non-Applicable</td>\n",
       "      <td>BBDO, Grey Group, Droga5</td>\n",
       "      <td>-1</td>\n",
       "    </tr>\n",
       "  </tbody>\n",
       "</table>\n",
       "</div>"
      ],
      "text/plain": [
       "   Unnamed: 0  index                          Job Title  \\\n",
       "0           0      0              Senior Data Scientist   \n",
       "1           1      1  Data Scientist, Product Analytics   \n",
       "2           2      2               Data Science Manager   \n",
       "3           3      3                       Data Analyst   \n",
       "4           4      4             Director, Data Science   \n",
       "\n",
       "                Salary Estimate  \\\n",
       "0  $111K-$181K (Glassdoor est.)   \n",
       "1  $111K-$181K (Glassdoor est.)   \n",
       "2  $111K-$181K (Glassdoor est.)   \n",
       "3  $111K-$181K (Glassdoor est.)   \n",
       "4  $111K-$181K (Glassdoor est.)   \n",
       "\n",
       "                                     Job Description  Rating  \\\n",
       "0  ABOUT HOPPER\\n\\nAt Hopper, we’re on a mission ...     3.5   \n",
       "1  At Noom, we use scientifically proven methods ...     4.5   \n",
       "2  Decode_M\\n\\nhttps://www.decode-m.com/\\n\\nData ...    -1.0   \n",
       "3  Sapphire Digital seeks a dynamic and driven mi...     3.4   \n",
       "4  Director, Data Science - (200537)\\nDescription...     3.4   \n",
       "\n",
       "                      Company Name       Location      Headquarters  \\\n",
       "0                      Hopper\\n3.5   New York, NY  Montreal, Canada   \n",
       "1                     Noom US\\n4.5   New York, NY      New York, NY   \n",
       "2                         Decode_M   New York, NY      New York, NY   \n",
       "3            Sapphire Digital\\n3.4  Lyndhurst, NJ     Lyndhurst, NJ   \n",
       "4  United Entertainment Group\\n3.4   New York, NY      New York, NY   \n",
       "\n",
       "                     Size  Founded  Type of ownership  \\\n",
       "0   501 to 1000 employees     2007  Company - Private   \n",
       "1  1001 to 5000 employees     2008  Company - Private   \n",
       "2       1 to 50 employees       -1            Unknown   \n",
       "3    201 to 500 employees     2019  Company - Private   \n",
       "4     51 to 200 employees     2007  Company - Private   \n",
       "\n",
       "                    Industry                  Sector  \\\n",
       "0            Travel Agencies        Travel & Tourism   \n",
       "1  Health, Beauty, & Fitness       Consumer Services   \n",
       "2                         -1                      -1   \n",
       "3                   Internet  Information Technology   \n",
       "4    Advertising & Marketing       Business Services   \n",
       "\n",
       "                    Revenue               Competitors Easy Apply  \n",
       "0  Unknown / Non-Applicable                        -1         -1  \n",
       "1  Unknown / Non-Applicable                        -1         -1  \n",
       "2  Unknown / Non-Applicable                        -1       True  \n",
       "3  Unknown / Non-Applicable      Zocdoc, Healthgrades         -1  \n",
       "4  Unknown / Non-Applicable  BBDO, Grey Group, Droga5         -1  "
      ]
     },
     "execution_count": 1,
     "metadata": {},
     "output_type": "execute_result"
    }
   ],
   "source": [
    "import warnings\n",
    "warnings.filterwarnings('ignore')\n",
    "import pandas as pd\n",
    "\n",
    "df = pd.read_csv(\"DataScientistJobsData.csv\")\n",
    "df[0:5]"
   ]
  },
  {
   "cell_type": "code",
   "execution_count": 2,
   "id": "eb1b618a",
   "metadata": {},
   "outputs": [
    {
     "name": "stdout",
     "output_type": "stream",
     "text": [
      "<class 'pandas.core.frame.DataFrame'>\n",
      "RangeIndex: 3909 entries, 0 to 3908\n",
      "Data columns (total 17 columns):\n",
      " #   Column             Non-Null Count  Dtype  \n",
      "---  ------             --------------  -----  \n",
      " 0   Unnamed: 0         3909 non-null   int64  \n",
      " 1   index              3909 non-null   int64  \n",
      " 2   Job Title          3909 non-null   object \n",
      " 3   Salary Estimate    3909 non-null   object \n",
      " 4   Job Description    3909 non-null   object \n",
      " 5   Rating             3909 non-null   float64\n",
      " 6   Company Name       3909 non-null   object \n",
      " 7   Location           3909 non-null   object \n",
      " 8   Headquarters       3909 non-null   object \n",
      " 9   Size               3909 non-null   object \n",
      " 10  Founded            3909 non-null   int64  \n",
      " 11  Type of ownership  3909 non-null   object \n",
      " 12  Industry           3909 non-null   object \n",
      " 13  Sector             3909 non-null   object \n",
      " 14  Revenue            3909 non-null   object \n",
      " 15  Competitors        3909 non-null   object \n",
      " 16  Easy Apply         3909 non-null   object \n",
      "dtypes: float64(1), int64(3), object(13)\n",
      "memory usage: 519.3+ KB\n"
     ]
    }
   ],
   "source": [
    "df.info()"
   ]
  },
  {
   "cell_type": "code",
   "execution_count": 3,
   "id": "fbb52074",
   "metadata": {},
   "outputs": [
    {
     "data": {
      "text/plain": [
       "0       146000.0\n",
       "1       146000.0\n",
       "2       146000.0\n",
       "3       146000.0\n",
       "4       146000.0\n",
       "          ...   \n",
       "3904     83500.0\n",
       "3905     83500.0\n",
       "3906     83500.0\n",
       "3907     83500.0\n",
       "3908     83500.0\n",
       "Length: 3909, dtype: float64"
      ]
     },
     "execution_count": 3,
     "metadata": {},
     "output_type": "execute_result"
    }
   ],
   "source": [
    "salarylow = df[\"Salary Estimate\"].str.split('[$K-]', expand = True)[1].astype(float)\n",
    "salaryhigh = df[\"Salary Estimate\"].str.split('[$K-]', expand = True)[4].astype(float)\n",
    "salarymean = (salarylow + salaryhigh)*1000/2\n",
    "salarymean"
   ]
  },
  {
   "cell_type": "markdown",
   "id": "003ad391",
   "metadata": {},
   "source": [
    "\n",
    "\n",
    "Since this salary data is a long string, we are converting it by splitting then convert to floats in order to analysis it. For this study, we'll keep this part simpler by just combine the high and low salary estimate range into a single number with its average, before doing actual analysis.\n",
    "\n",
    "Ideally we will want a more accurate source and not an estimate range for our analysis, but we will work with what we have here for this study.\n"
   ]
  },
  {
   "cell_type": "code",
   "execution_count": 4,
   "id": "475c0372",
   "metadata": {},
   "outputs": [
    {
     "data": {
      "text/plain": [
       "array(['NY', 'NJ', 'CA', 'IL', 'TX', 'AZ', 'DE', 'PA', 'United Kingdom',\n",
       "       'FL', 'OH'], dtype=object)"
      ]
     },
     "execution_count": 4,
     "metadata": {},
     "output_type": "execute_result"
    }
   ],
   "source": [
    "city = df[\"Location\"].str.split(',', expand = True)[0]\n",
    "state = df[\"Location\"].str.split(', ', expand = True)[1]\n",
    "state.unique()"
   ]
  },
  {
   "cell_type": "markdown",
   "id": "4f83d90d",
   "metadata": {},
   "source": [
    "There is some UK data mix into the US, we'll just analyst the US for the study."
   ]
  },
  {
   "cell_type": "code",
   "execution_count": 5,
   "id": "5056a8ec",
   "metadata": {},
   "outputs": [],
   "source": [
    "cleandf = df[['Job Title','Sector']]\n",
    "cleandf['Salary Est.'] = salarymean\n",
    "cleandf['City'] = city\n",
    "cleandf['State'] = state"
   ]
  },
  {
   "cell_type": "code",
   "execution_count": 6,
   "id": "3c5d797e",
   "metadata": {},
   "outputs": [
    {
     "data": {
      "text/plain": [
       "array(['NY', 'NJ', 'CA', 'IL', 'TX', 'AZ', 'DE', 'PA', 'FL', 'OH'],\n",
       "      dtype=object)"
      ]
     },
     "execution_count": 6,
     "metadata": {},
     "output_type": "execute_result"
    }
   ],
   "source": [
    "dropindex = cleandf[ cleandf[\"State\"] == \"United Kingdom\" ].index\n",
    "cleandf.drop(dropindex , inplace=True)\n",
    "cleandf[\"State\"].unique()"
   ]
  },
  {
   "cell_type": "code",
   "execution_count": 7,
   "id": "c6347dae",
   "metadata": {},
   "outputs": [
    {
     "data": {
      "text/plain": [
       "Job Title      3905\n",
       "Sector         3905\n",
       "Salary Est.    3884\n",
       "City           3905\n",
       "State          3905\n",
       "dtype: int64"
      ]
     },
     "execution_count": 7,
     "metadata": {},
     "output_type": "execute_result"
    }
   ],
   "source": [
    "cleandf.count()"
   ]
  },
  {
   "cell_type": "code",
   "execution_count": 8,
   "id": "72b84acc",
   "metadata": {},
   "outputs": [
    {
     "data": {
      "text/plain": [
       "21"
      ]
     },
     "execution_count": 8,
     "metadata": {},
     "output_type": "execute_result"
    }
   ],
   "source": [
    "cleandf['Salary Est.'].isna().sum()"
   ]
  },
  {
   "cell_type": "markdown",
   "id": "05289c70",
   "metadata": {},
   "source": [
    "We notice the data in 4 column dosen't add up, as we can see there is missing values in dataset, we are going remove all the rows with missing circtical values, which is the salary data."
   ]
  },
  {
   "cell_type": "code",
   "execution_count": 9,
   "id": "89a38ed5",
   "metadata": {},
   "outputs": [
    {
     "data": {
      "text/plain": [
       "Job Title      3884\n",
       "Sector         3884\n",
       "Salary Est.    3884\n",
       "City           3884\n",
       "State          3884\n",
       "dtype: int64"
      ]
     },
     "execution_count": 9,
     "metadata": {},
     "output_type": "execute_result"
    }
   ],
   "source": [
    "cleandf.dropna(inplace=True)\n",
    "cleandf.count()"
   ]
  },
  {
   "cell_type": "code",
   "execution_count": 10,
   "id": "e16f39ec",
   "metadata": {},
   "outputs": [
    {
     "data": {
      "text/plain": [
       "0"
      ]
     },
     "execution_count": 10,
     "metadata": {},
     "output_type": "execute_result"
    }
   ],
   "source": [
    "cleandf['Salary Est.'].isna().sum()"
   ]
  },
  {
   "cell_type": "markdown",
   "id": "4ed75206",
   "metadata": {},
   "source": [
    "Double check.. Good!"
   ]
  },
  {
   "cell_type": "code",
   "execution_count": 11,
   "id": "f275e9f8",
   "metadata": {},
   "outputs": [
    {
     "data": {
      "text/plain": [
       "Job Title      3884\n",
       "Sector         3884\n",
       "Salary Est.    3884\n",
       "City           3884\n",
       "State          3884\n",
       "dtype: int64"
      ]
     },
     "execution_count": 11,
     "metadata": {},
     "output_type": "execute_result"
    }
   ],
   "source": [
    "cleandf['Sector'].unique()\n",
    "cleandf['Sector'] = cleandf['Sector'].replace({'-1':'Unknown'})\n",
    "cleandf.count()"
   ]
  },
  {
   "cell_type": "markdown",
   "id": "162fecd3",
   "metadata": {},
   "source": [
    "Further clean some dirty value we spot..."
   ]
  },
  {
   "cell_type": "markdown",
   "id": "0817cb84",
   "metadata": {},
   "source": [
    "#### Now the data is clean up, and ready to analysis."
   ]
  },
  {
   "cell_type": "markdown",
   "id": "f4ba19ba",
   "metadata": {},
   "source": [
    "## Detecting Oulier:"
   ]
  },
  {
   "cell_type": "code",
   "execution_count": 12,
   "id": "1e7fb7b1",
   "metadata": {},
   "outputs": [
    {
     "data": {
      "text/plain": [
       "<AxesSubplot:>"
      ]
     },
     "execution_count": 12,
     "metadata": {},
     "output_type": "execute_result"
    },
    {
     "data": {
      "image/png": "[encoded data removed]",
      "text/plain": [
       "<Figure size 432x288 with 1 Axes>"
      ]
     },
     "metadata": {
      "needs_background": "light"
     },
     "output_type": "display_data"
    }
   ],
   "source": [
    "cleandf.boxplot(column =['Salary Est.'], grid = False)"
   ]
  },
  {
   "cell_type": "code",
   "execution_count": 13,
   "id": "a778a799",
   "metadata": {},
   "outputs": [
    {
     "data": {
      "text/plain": [
       "29"
      ]
     },
     "execution_count": 13,
     "metadata": {},
     "output_type": "execute_result"
    }
   ],
   "source": [
    "(cleandf['Salary Est.'] >= 210000).sum()"
   ]
  },
  {
   "cell_type": "markdown",
   "id": "b5085174",
   "metadata": {},
   "source": [
    "There is 29 data above 205k which is highly above the median, since we have 3888 datas and only 29 outliers, which is only about 0.007% of all the data we have, we'll remove the 29 outliers is this case."
   ]
  },
  {
   "cell_type": "code",
   "execution_count": 14,
   "id": "4842f68b",
   "metadata": {},
   "outputs": [
    {
     "data": {
      "text/plain": [
       "Job Title      3855\n",
       "Sector         3855\n",
       "Salary Est.    3855\n",
       "City           3855\n",
       "State          3855\n",
       "dtype: int64"
      ]
     },
     "execution_count": 14,
     "metadata": {},
     "output_type": "execute_result"
    }
   ],
   "source": [
    "dropindex = cleandf[ cleandf['Salary Est.'] >= 210000 ].index\n",
    "cleandf.drop(dropindex , inplace=True)\n",
    "cleandf.count()"
   ]
  },
  {
   "cell_type": "code",
   "execution_count": 15,
   "id": "c264c738",
   "metadata": {},
   "outputs": [
    {
     "data": {
      "text/plain": [
       "array([[<AxesSubplot:title={'center':'Salary Est.'}>]], dtype=object)"
      ]
     },
     "execution_count": 15,
     "metadata": {},
     "output_type": "execute_result"
    },
    {
     "data": {
      "image/png": "[encoded data removed]",
      "text/plain": [
       "<Figure size 432x288 with 1 Axes>"
      ]
     },
     "metadata": {
      "needs_background": "light"
     },
     "output_type": "display_data"
    }
   ],
   "source": [
    "cleandf.hist(column =['Salary Est.'], grid = False)"
   ]
  },
  {
   "cell_type": "markdown",
   "id": "d60e72ec",
   "metadata": {},
   "source": [
    "## Exploratory Data Analysis(EDA)"
   ]
  },
  {
   "cell_type": "code",
   "execution_count": 16,
   "id": "b0dd12d1",
   "metadata": {},
   "outputs": [
    {
     "data": {
      "text/plain": [
       "<AxesSubplot:xlabel='State', ylabel='Salary Est.'>"
      ]
     },
     "execution_count": 16,
     "metadata": {},
     "output_type": "execute_result"
    },
    {
     "data": {
      "image/png": "[encoded data removed]",
      "text/plain": [
       "<Figure size 432x288 with 1 Axes>"
      ]
     },
     "metadata": {
      "needs_background": "light"
     },
     "output_type": "display_data"
    }
   ],
   "source": [
    "cleandf.plot.scatter(x='State', y='Salary Est.')"
   ]
  },
  {
   "cell_type": "code",
   "execution_count": 17,
   "id": "add11a6c",
   "metadata": {},
   "outputs": [
    {
     "data": {
      "text/plain": [
       "Text(0.5, 0, 'Salary Est.')"
      ]
     },
     "execution_count": 17,
     "metadata": {},
     "output_type": "execute_result"
    },
    {
     "data": {
      "image/png": "[encoded data removed]",
      "text/plain": [
       "<Figure size 432x288 with 1 Axes>"
      ]
     },
     "metadata": {
      "needs_background": "light"
     },
     "output_type": "display_data"
    }
   ],
   "source": [
    "import seaborn as sns\n",
    "#sns.pairplot(cleandf,hue='State', size=3)\n",
    "ax = cleandf.plot.hist(bins=25, alpha=0.5)\n",
    "ax.set_xlabel('Salary Est.')"
   ]
  },
  {
   "cell_type": "code",
   "execution_count": 18,
   "id": "6784186a",
   "metadata": {},
   "outputs": [
    {
     "data": {
      "text/plain": [
       "array([[<AxesSubplot:title={'center':'AZ'}>,\n",
       "        <AxesSubplot:title={'center':'CA'}>,\n",
       "        <AxesSubplot:title={'center':'DE'}>],\n",
       "       [<AxesSubplot:title={'center':'FL'}>,\n",
       "        <AxesSubplot:title={'center':'IL'}>,\n",
       "        <AxesSubplot:title={'center':'NJ'}>],\n",
       "       [<AxesSubplot:title={'center':'NY'}>,\n",
       "        <AxesSubplot:title={'center':'OH'}>,\n",
       "        <AxesSubplot:title={'center':'PA'}>],\n",
       "       [<AxesSubplot:title={'center':'TX'}>, <AxesSubplot:>,\n",
       "        <AxesSubplot:>]], dtype=object)"
      ]
     },
     "execution_count": 18,
     "metadata": {},
     "output_type": "execute_result"
    },
    {
     "data": {
      "image/png": "[encoded data removed]",
      "text/plain": [
       "<Figure size 432x288 with 12 Axes>"
      ]
     },
     "metadata": {
      "needs_background": "light"
     },
     "output_type": "display_data"
    }
   ],
   "source": [
    "cleandf.hist(column =['Salary Est.'],by=['State'], grid = False)"
   ]
  },
  {
   "cell_type": "code",
   "execution_count": 19,
   "id": "dde30a0c",
   "metadata": {},
   "outputs": [
    {
     "data": {
      "text/plain": [
       "<AxesSubplot:title={'center':'Salary Est.'}, xlabel='[State]'>"
      ]
     },
     "execution_count": 19,
     "metadata": {},
     "output_type": "execute_result"
    },
    {
     "data": {
      "image/png": "[encoded data removed]",
      "text/plain": [
       "<Figure size 432x288 with 1 Axes>"
      ]
     },
     "metadata": {
      "needs_background": "light"
     },
     "output_type": "display_data"
    }
   ],
   "source": [
    "cleandf.boxplot(column =['Salary Est.'],by=['State'], grid = False)"
   ]
  },
  {
   "cell_type": "code",
   "execution_count": 20,
   "id": "9c28263d",
   "metadata": {},
   "outputs": [
    {
     "data": {
      "text/plain": [
       "<AxesSubplot:title={'center':'Salary Est.'}, xlabel='[Sector]'>"
      ]
     },
     "execution_count": 20,
     "metadata": {},
     "output_type": "execute_result"
    },
    {
     "data": {
      "image/png": "[encoded data removed]",
      "text/plain": [
       "<Figure size 432x288 with 1 Axes>"
      ]
     },
     "metadata": {
      "needs_background": "light"
     },
     "output_type": "display_data"
    }
   ],
   "source": [
    "cleandf.boxplot(column =['Salary Est.'],by=['Sector'], grid = False)"
   ]
  },
  {
   "cell_type": "markdown",
   "id": "519559e9",
   "metadata": {},
   "source": [
    "Visually we can see the different sectors are quite similar overall, and state location has a very clear difference. \n",
    "Therefore, geography location can possible play bigger on the effect on salary."
   ]
  },
  {
   "cell_type": "code",
   "execution_count": 21,
   "id": "5d970e33",
   "metadata": {},
   "outputs": [
    {
     "data": {
      "text/plain": [
       "count      3855.000000\n",
       "mean     107426.977951\n",
       "std       37050.242520\n",
       "min       43500.000000\n",
       "25%       75000.000000\n",
       "50%      104500.000000\n",
       "75%      132750.000000\n",
       "max      205000.000000\n",
       "Name: Salary Est., dtype: float64"
      ]
     },
     "execution_count": 21,
     "metadata": {},
     "output_type": "execute_result"
    }
   ],
   "source": [
    "cleandf['Salary Est.'].describe()"
   ]
  },
  {
   "cell_type": "markdown",
   "id": "2f7a1d95",
   "metadata": {},
   "source": [
    "## Hypothesis Testing:"
   ]
  },
  {
   "cell_type": "markdown",
   "id": "fb8e6db9",
   "metadata": {},
   "source": [
    "1. California is the highest median salary state for Data Science.\n",
    "2. Location is the biggest impact toward salary verus other factors.\n",
    "3. The median salary of Data Scienctist is above 100K."
   ]
  },
  {
   "cell_type": "markdown",
   "id": "160dbd48",
   "metadata": {},
   "source": [
    "For this study, we are going to conduct a sigificance hypotheses test on \"California is the highest median salary state for Data Science.\""
   ]
  },
  {
   "cell_type": "markdown",
   "id": "112c8044",
   "metadata": {},
   "source": [
    "This data set represent all the job offer available."
   ]
  },
  {
   "cell_type": "markdown",
   "id": "7b60016f",
   "metadata": {},
   "source": [
    "#### Ho: \"California is not signficantly different than the US average in Data Science salary.\" \n",
    "\n",
    "#### Ha: \"California is signficantly different than the US average in Data Science salary.\" "
   ]
  },
  {
   "cell_type": "code",
   "execution_count": 22,
   "id": "a47450f0",
   "metadata": {},
   "outputs": [
    {
     "name": "stdout",
     "output_type": "stream",
     "text": [
      "107426.97795071336\n",
      "130799.12875121007\n"
     ]
    }
   ],
   "source": [
    "population_mean = cleandf['Salary Est.'].mean()\n",
    "ca_mean = cleandf[cleandf['State'] == \"CA\"]['Salary Est.'].mean()\n",
    "print(population_mean)\n",
    "print(ca_mean)"
   ]
  },
  {
   "cell_type": "code",
   "execution_count": 23,
   "id": "b32f10cd",
   "metadata": {},
   "outputs": [
    {
     "data": {
      "text/plain": [
       "Ttest_1sampResult(statistic=20.816561705161995, pvalue=1.2436874308833151e-80)"
      ]
     },
     "execution_count": 23,
     "metadata": {},
     "output_type": "execute_result"
    }
   ],
   "source": [
    "import scipy.stats as stats\n",
    "ca_data = cleandf[cleandf['State'] == \"CA\"]['Salary Est.']\n",
    "stats.ttest_1samp(a = ca_data, \n",
    "                  popmean = population_mean)"
   ]
  },
  {
   "cell_type": "markdown",
   "id": "117e12c0",
   "metadata": {},
   "source": [
    "Since the P-Value is 1.24 which is higher than 0.05. \n",
    "\n",
    "We can not conclude that California is significantly different than the overall US average."
   ]
  },
  {
   "cell_type": "markdown",
   "id": "8d395a7e",
   "metadata": {},
   "source": [
    "### Next steps:"
   ]
  },
  {
   "cell_type": "markdown",
   "id": "97c9c71b",
   "metadata": {},
   "source": [
    "We can also t-test on location vs other factors."
   ]
  },
  {
   "cell_type": "markdown",
   "id": "8c9a7f26",
   "metadata": {},
   "source": [
    "### Summary:"
   ]
  },
  {
   "cell_type": "markdown",
   "id": "4f9ae8e7",
   "metadata": {},
   "source": [
    "In summary, this data set is not very high quility since is from a webscraper, lot of format need to be clean and convert, the estimate range also can not represent the true value. Overall, it's more ideal to analysis on more higher quilty sources in a formulate and detail on the subject, like the census data."
   ]
  },
  {
   "cell_type": "markdown",
   "id": "b84c36af",
   "metadata": {},
   "source": [
    "Thanks for reading!"
   ]
  },
  {
   "cell_type": "markdown",
   "id": "93b41f6a",
   "metadata": {},
   "source": [
    "Louis Wong"
   ]
  }
 ],
 "metadata": {
  "kernelspec": {
   "display_name": "Python 3",
   "language": "python",
   "name": "python3"
  },
  "language_info": {
   "codemirror_mode": {
    "name": "ipython",
    "version": 3
   },
   "file_extension": ".py",
   "mimetype": "text/x-python",
   "name": "python",
   "nbconvert_exporter": "python",
   "pygments_lexer": "ipython3",
   "version": "3.8.5"
  }
 },
 "nbformat": 4,
 "nbformat_minor": 5
}
